{
 "cells": [
  {
   "cell_type": "markdown",
   "metadata": {},
   "source": [
    "# Creating additional regressors to use with Prophet in other notebooks"
   ]
  },
  {
   "cell_type": "markdown",
   "metadata": {},
   "source": [
    "## Import necessary modules"
   ]
  },
  {
   "cell_type": "code",
   "execution_count": 1,
   "metadata": {
    "ExecuteTime": {
     "end_time": "2018-04-02T05:03:59.302172Z",
     "start_time": "2018-04-02T05:03:58.880846Z"
    }
   },
   "outputs": [],
   "source": [
    "import pandas as pd\n",
    "import numpy as np\n",
    "from pprint import pprint\n",
    "from datetime import datetime\n",
    "import matplotlib.pyplot as plt\n",
    "from matplotlib.ticker import FuncFormatter\n",
    "%matplotlib inline"
   ]
  },
  {
   "cell_type": "code",
   "execution_count": 2,
   "metadata": {
    "ExecuteTime": {
     "end_time": "2018-04-02T05:04:00.764485Z",
     "start_time": "2018-04-02T05:04:00.757177Z"
    }
   },
   "outputs": [],
   "source": [
    "# function to select a few rows of data, \n",
    "# convert to a Pandas dataframe, and transpose\n",
    "\n",
    "def preview(df, n=3, sample=False, sample_frac=0.01):\n",
    "    if sample == True:\n",
    "        return pd.DataFrame(df.sample(False, sample_frac).take(n), columns=df.columns)\n",
    "    else:\n",
    "        return pd.DataFrame(df.take(n), columns=df.columns)"
   ]
  },
  {
   "cell_type": "markdown",
   "metadata": {},
   "source": [
    "## Open files"
   ]
  },
  {
   "cell_type": "markdown",
   "metadata": {},
   "source": [
    "### 2014 files"
   ]
  },
  {
   "cell_type": "code",
   "execution_count": 5,
   "metadata": {
    "ExecuteTime": {
     "end_time": "2018-04-02T05:09:22.475751Z",
     "start_time": "2018-04-02T05:09:22.470916Z"
    }
   },
   "outputs": [],
   "source": [
    "# create list of names of files to open\n",
    "\n",
    "fp = 'gs://metis_bucket_av/data/citibike/with_loc/'\n",
    "months = ['201501', '201502', '201503', '201504', '201505', '201506']\n",
    "fn = '{}-citibike-tripdata.csv'\n",
    "fns = [fp + fn.format(m) for m in months]"
   ]
  },
  {
   "cell_type": "code",
   "execution_count": 23,
   "metadata": {
    "ExecuteTime": {
     "end_time": "2018-04-02T05:16:02.794530Z",
     "start_time": "2018-04-02T05:15:53.020969Z"
    }
   },
   "outputs": [],
   "source": [
    "# open each CSV, read in with spark, \n",
    "# and join to create one large dataframe\n",
    "\n",
    "df = spark.read.csv(fns[0], header=True)\n",
    "for f in fns[1:]:\n",
    "    temp_df = spark.read.csv(f, header=True)\n",
    "    df = df.union(temp_df)"
   ]
  },
  {
   "cell_type": "code",
   "execution_count": 7,
   "metadata": {
    "ExecuteTime": {
     "end_time": "2018-04-02T05:10:01.545538Z",
     "start_time": "2018-04-02T05:09:52.430366Z"
    }
   },
   "outputs": [
    {
     "name": "stdout",
     "output_type": "stream",
     "text": [
      "3,379,903 rows\n"
     ]
    }
   ],
   "source": [
    "# check # of rows in resulting final dataframe\n",
    "\n",
    "num_rows_df = df.count()\n",
    "print('{:,} rows'.format(num_rows_df))"
   ]
  },
  {
   "cell_type": "code",
   "execution_count": 9,
   "metadata": {
    "ExecuteTime": {
     "end_time": "2018-04-02T05:10:09.115275Z",
     "start_time": "2018-04-02T05:10:07.578922Z"
    }
   },
   "outputs": [
    {
     "data": {
      "text/html": [
       "<div>\n",
       "<style scoped>\n",
       "    .dataframe tbody tr th:only-of-type {\n",
       "        vertical-align: middle;\n",
       "    }\n",
       "\n",
       "    .dataframe tbody tr th {\n",
       "        vertical-align: top;\n",
       "    }\n",
       "\n",
       "    .dataframe thead th {\n",
       "        text-align: right;\n",
       "    }\n",
       "</style>\n",
       "<table border=\"1\" class=\"dataframe\">\n",
       "  <thead>\n",
       "    <tr style=\"text-align: right;\">\n",
       "      <th></th>\n",
       "      <th>tripduration</th>\n",
       "      <th>starttime</th>\n",
       "      <th>stoptime</th>\n",
       "      <th>start station id</th>\n",
       "      <th>start station name</th>\n",
       "      <th>start station latitude</th>\n",
       "      <th>start station longitude</th>\n",
       "      <th>end station id</th>\n",
       "      <th>end station name</th>\n",
       "      <th>end station latitude</th>\n",
       "      <th>end station longitude</th>\n",
       "      <th>bikeid</th>\n",
       "      <th>usertype</th>\n",
       "      <th>birth year</th>\n",
       "      <th>gender</th>\n",
       "      <th>start_loc</th>\n",
       "    </tr>\n",
       "  </thead>\n",
       "  <tbody>\n",
       "    <tr>\n",
       "      <th>0</th>\n",
       "      <td>1346</td>\n",
       "      <td>1/1/2015 0:01</td>\n",
       "      <td>1/1/2015 0:24</td>\n",
       "      <td>455</td>\n",
       "      <td>1 Ave &amp; E 44 St</td>\n",
       "      <td>40.75001986</td>\n",
       "      <td>-73.96905301</td>\n",
       "      <td>265</td>\n",
       "      <td>Stanton St &amp; Chrystie St</td>\n",
       "      <td>40.72229346</td>\n",
       "      <td>-73.99147535</td>\n",
       "      <td>18660</td>\n",
       "      <td>Subscriber</td>\n",
       "      <td>1960.0</td>\n",
       "      <td>2</td>\n",
       "      <td>Midtown</td>\n",
       "    </tr>\n",
       "    <tr>\n",
       "      <th>1</th>\n",
       "      <td>363</td>\n",
       "      <td>1/1/2015 0:02</td>\n",
       "      <td>1/1/2015 0:08</td>\n",
       "      <td>434</td>\n",
       "      <td>9 Ave &amp; W 18 St</td>\n",
       "      <td>40.74317449</td>\n",
       "      <td>-74.00366443</td>\n",
       "      <td>482</td>\n",
       "      <td>W 15 St &amp; 7 Ave</td>\n",
       "      <td>40.73935542</td>\n",
       "      <td>-73.99931783</td>\n",
       "      <td>16085</td>\n",
       "      <td>Subscriber</td>\n",
       "      <td>1963.0</td>\n",
       "      <td>1</td>\n",
       "      <td>Chelsea</td>\n",
       "    </tr>\n",
       "    <tr>\n",
       "      <th>2</th>\n",
       "      <td>346</td>\n",
       "      <td>1/1/2015 0:04</td>\n",
       "      <td>1/1/2015 0:10</td>\n",
       "      <td>491</td>\n",
       "      <td>E 24 St &amp; Park Ave S</td>\n",
       "      <td>40.74096374</td>\n",
       "      <td>-73.98602213</td>\n",
       "      <td>505</td>\n",
       "      <td>6 Ave &amp; W 33 St</td>\n",
       "      <td>40.74901271</td>\n",
       "      <td>-73.98848395</td>\n",
       "      <td>20845</td>\n",
       "      <td>Subscriber</td>\n",
       "      <td>1974.0</td>\n",
       "      <td>1</td>\n",
       "      <td>Flatiron District</td>\n",
       "    </tr>\n",
       "    <tr>\n",
       "      <th>3</th>\n",
       "      <td>182</td>\n",
       "      <td>1/1/2015 0:04</td>\n",
       "      <td>1/1/2015 0:07</td>\n",
       "      <td>384</td>\n",
       "      <td>Fulton St &amp; Waverly Ave</td>\n",
       "      <td>40.68317813</td>\n",
       "      <td>-73.9659641</td>\n",
       "      <td>399</td>\n",
       "      <td>Lafayette Ave &amp; St James Pl</td>\n",
       "      <td>40.68851534</td>\n",
       "      <td>-73.9647628</td>\n",
       "      <td>19610</td>\n",
       "      <td>Subscriber</td>\n",
       "      <td>1969.0</td>\n",
       "      <td>1</td>\n",
       "      <td>Clinton Hill</td>\n",
       "    </tr>\n",
       "    <tr>\n",
       "      <th>4</th>\n",
       "      <td>969</td>\n",
       "      <td>1/1/2015 0:05</td>\n",
       "      <td>1/1/2015 0:21</td>\n",
       "      <td>474</td>\n",
       "      <td>5 Ave &amp; E 29 St</td>\n",
       "      <td>40.7451677</td>\n",
       "      <td>-73.98683077</td>\n",
       "      <td>432</td>\n",
       "      <td>E 7 St &amp; Avenue A</td>\n",
       "      <td>40.72621788</td>\n",
       "      <td>-73.98379855</td>\n",
       "      <td>20197</td>\n",
       "      <td>Subscriber</td>\n",
       "      <td>1977.0</td>\n",
       "      <td>1</td>\n",
       "      <td>Midtown</td>\n",
       "    </tr>\n",
       "  </tbody>\n",
       "</table>\n",
       "</div>"
      ],
      "text/plain": [
       "  tripduration      starttime       stoptime start station id  \\\n",
       "0         1346  1/1/2015 0:01  1/1/2015 0:24              455   \n",
       "1          363  1/1/2015 0:02  1/1/2015 0:08              434   \n",
       "2          346  1/1/2015 0:04  1/1/2015 0:10              491   \n",
       "3          182  1/1/2015 0:04  1/1/2015 0:07              384   \n",
       "4          969  1/1/2015 0:05  1/1/2015 0:21              474   \n",
       "\n",
       "        start station name start station latitude start station longitude  \\\n",
       "0          1 Ave & E 44 St            40.75001986            -73.96905301   \n",
       "1          9 Ave & W 18 St            40.74317449            -74.00366443   \n",
       "2     E 24 St & Park Ave S            40.74096374            -73.98602213   \n",
       "3  Fulton St & Waverly Ave            40.68317813             -73.9659641   \n",
       "4          5 Ave & E 29 St             40.7451677            -73.98683077   \n",
       "\n",
       "  end station id             end station name end station latitude  \\\n",
       "0            265     Stanton St & Chrystie St          40.72229346   \n",
       "1            482              W 15 St & 7 Ave          40.73935542   \n",
       "2            505              6 Ave & W 33 St          40.74901271   \n",
       "3            399  Lafayette Ave & St James Pl          40.68851534   \n",
       "4            432            E 7 St & Avenue A          40.72621788   \n",
       "\n",
       "  end station longitude bikeid    usertype birth year gender  \\\n",
       "0          -73.99147535  18660  Subscriber     1960.0      2   \n",
       "1          -73.99931783  16085  Subscriber     1963.0      1   \n",
       "2          -73.98848395  20845  Subscriber     1974.0      1   \n",
       "3           -73.9647628  19610  Subscriber     1969.0      1   \n",
       "4          -73.98379855  20197  Subscriber     1977.0      1   \n",
       "\n",
       "           start_loc  \n",
       "0            Midtown  \n",
       "1            Chelsea  \n",
       "2  Flatiron District  \n",
       "3       Clinton Hill  \n",
       "4            Midtown  "
      ]
     },
     "execution_count": 9,
     "metadata": {},
     "output_type": "execute_result"
    }
   ],
   "source": [
    "preview(df, 5)"
   ]
  },
  {
   "cell_type": "code",
   "execution_count": 11,
   "metadata": {
    "ExecuteTime": {
     "end_time": "2018-04-02T05:10:45.834094Z",
     "start_time": "2018-04-02T05:10:45.828393Z"
    }
   },
   "outputs": [
    {
     "name": "stdout",
     "output_type": "stream",
     "text": [
      "root\n",
      " |-- tripduration: string (nullable = true)\n",
      " |-- starttime: string (nullable = true)\n",
      " |-- stoptime: string (nullable = true)\n",
      " |-- start station id: string (nullable = true)\n",
      " |-- start station name: string (nullable = true)\n",
      " |-- start station latitude: string (nullable = true)\n",
      " |-- start station longitude: string (nullable = true)\n",
      " |-- end station id: string (nullable = true)\n",
      " |-- end station name: string (nullable = true)\n",
      " |-- end station latitude: string (nullable = true)\n",
      " |-- end station longitude: string (nullable = true)\n",
      " |-- bikeid: string (nullable = true)\n",
      " |-- usertype: string (nullable = true)\n",
      " |-- birth year: string (nullable = true)\n",
      " |-- gender: string (nullable = true)\n",
      " |-- start_loc: string (nullable = true)\n",
      "\n"
     ]
    }
   ],
   "source": [
    "df.printSchema()"
   ]
  },
  {
   "cell_type": "markdown",
   "metadata": {},
   "source": [
    "## Casting data types"
   ]
  },
  {
   "cell_type": "code",
   "execution_count": 12,
   "metadata": {
    "ExecuteTime": {
     "end_time": "2018-04-02T05:10:58.824367Z",
     "start_time": "2018-04-02T05:10:58.820515Z"
    }
   },
   "outputs": [],
   "source": [
    "import pyspark.sql.types as pst\n",
    "import pyspark.sql.functions as psf"
   ]
  },
  {
   "cell_type": "code",
   "execution_count": 25,
   "metadata": {
    "ExecuteTime": {
     "end_time": "2018-04-02T05:16:42.053277Z",
     "start_time": "2018-04-02T05:16:42.029138Z"
    }
   },
   "outputs": [
    {
     "name": "stdout",
     "output_type": "stream",
     "text": [
      "root\n",
      " |-- dt: timestamp (nullable = true)\n",
      " |-- start_loc: string (nullable = true)\n",
      "\n"
     ]
    }
   ],
   "source": [
    "df = df.select(\n",
    "        psf.to_timestamp(df['starttime'], 'M/d/yyyy H:mm').alias('dt'),\n",
    "        df.start_loc)\n",
    "\n",
    "df.printSchema()"
   ]
  },
  {
   "cell_type": "markdown",
   "metadata": {},
   "source": [
    "## Converting to Pandas"
   ]
  },
  {
   "cell_type": "code",
   "execution_count": 34,
   "metadata": {
    "ExecuteTime": {
     "end_time": "2018-04-02T05:22:36.175224Z",
     "start_time": "2018-04-02T05:22:20.998506Z"
    }
   },
   "outputs": [],
   "source": [
    "cb = (df\n",
    "      .groupby(psf.date_format(\"dt\", 'yyyy-MM-dd HH').alias(\"date\"))\n",
    "      .pivot('start_loc').count()\n",
    "      .orderBy('date').toPandas())"
   ]
  },
  {
   "cell_type": "code",
   "execution_count": 38,
   "metadata": {
    "ExecuteTime": {
     "end_time": "2018-04-02T05:23:15.080182Z",
     "start_time": "2018-04-02T05:23:15.075945Z"
    }
   },
   "outputs": [],
   "source": [
    "cb.set_index('date', inplace=True)"
   ]
  },
  {
   "cell_type": "code",
   "execution_count": 40,
   "metadata": {
    "ExecuteTime": {
     "end_time": "2018-04-02T05:23:42.773899Z",
     "start_time": "2018-04-02T05:23:42.747111Z"
    }
   },
   "outputs": [
    {
     "data": {
      "text/html": [
       "<div>\n",
       "<style scoped>\n",
       "    .dataframe tbody tr th:only-of-type {\n",
       "        vertical-align: middle;\n",
       "    }\n",
       "\n",
       "    .dataframe tbody tr th {\n",
       "        vertical-align: top;\n",
       "    }\n",
       "\n",
       "    .dataframe thead th {\n",
       "        text-align: right;\n",
       "    }\n",
       "</style>\n",
       "<table border=\"1\" class=\"dataframe\">\n",
       "  <thead>\n",
       "    <tr style=\"text-align: right;\">\n",
       "      <th></th>\n",
       "      <th>Battery Park City</th>\n",
       "      <th>Bedford-Stuyvesant</th>\n",
       "      <th>Boerum Hill</th>\n",
       "      <th>Brooklyn Heights</th>\n",
       "      <th>Central Park</th>\n",
       "      <th>Chelsea</th>\n",
       "      <th>Chinatown</th>\n",
       "      <th>Civic Center</th>\n",
       "      <th>Clinton Hill</th>\n",
       "      <th>Columbia St</th>\n",
       "      <th>...</th>\n",
       "      <th>Stuyvesant Town</th>\n",
       "      <th>Sunset Park</th>\n",
       "      <th>Theater District</th>\n",
       "      <th>Tribeca</th>\n",
       "      <th>Two Bridges</th>\n",
       "      <th>Upper East Side</th>\n",
       "      <th>Upper West Side</th>\n",
       "      <th>Vinegar Hill</th>\n",
       "      <th>West Village</th>\n",
       "      <th>Williamsburg</th>\n",
       "    </tr>\n",
       "    <tr>\n",
       "      <th>date</th>\n",
       "      <th></th>\n",
       "      <th></th>\n",
       "      <th></th>\n",
       "      <th></th>\n",
       "      <th></th>\n",
       "      <th></th>\n",
       "      <th></th>\n",
       "      <th></th>\n",
       "      <th></th>\n",
       "      <th></th>\n",
       "      <th></th>\n",
       "      <th></th>\n",
       "      <th></th>\n",
       "      <th></th>\n",
       "      <th></th>\n",
       "      <th></th>\n",
       "      <th></th>\n",
       "      <th></th>\n",
       "      <th></th>\n",
       "      <th></th>\n",
       "      <th></th>\n",
       "    </tr>\n",
       "  </thead>\n",
       "  <tbody>\n",
       "    <tr>\n",
       "      <th>2015-01-01 00</th>\n",
       "      <td>2.0</td>\n",
       "      <td>NaN</td>\n",
       "      <td>2.0</td>\n",
       "      <td>2.0</td>\n",
       "      <td>NaN</td>\n",
       "      <td>17.0</td>\n",
       "      <td>2.0</td>\n",
       "      <td>1.0</td>\n",
       "      <td>6.0</td>\n",
       "      <td>NaN</td>\n",
       "      <td>...</td>\n",
       "      <td>NaN</td>\n",
       "      <td>NaN</td>\n",
       "      <td>NaN</td>\n",
       "      <td>1.0</td>\n",
       "      <td>1.0</td>\n",
       "      <td>NaN</td>\n",
       "      <td>3.0</td>\n",
       "      <td>NaN</td>\n",
       "      <td>4.0</td>\n",
       "      <td>2.0</td>\n",
       "    </tr>\n",
       "    <tr>\n",
       "      <th>2015-01-01 01</th>\n",
       "      <td>NaN</td>\n",
       "      <td>3.0</td>\n",
       "      <td>2.0</td>\n",
       "      <td>2.0</td>\n",
       "      <td>NaN</td>\n",
       "      <td>20.0</td>\n",
       "      <td>5.0</td>\n",
       "      <td>2.0</td>\n",
       "      <td>3.0</td>\n",
       "      <td>NaN</td>\n",
       "      <td>...</td>\n",
       "      <td>5.0</td>\n",
       "      <td>NaN</td>\n",
       "      <td>NaN</td>\n",
       "      <td>5.0</td>\n",
       "      <td>NaN</td>\n",
       "      <td>NaN</td>\n",
       "      <td>2.0</td>\n",
       "      <td>NaN</td>\n",
       "      <td>10.0</td>\n",
       "      <td>2.0</td>\n",
       "    </tr>\n",
       "    <tr>\n",
       "      <th>2015-01-01 02</th>\n",
       "      <td>1.0</td>\n",
       "      <td>NaN</td>\n",
       "      <td>3.0</td>\n",
       "      <td>1.0</td>\n",
       "      <td>NaN</td>\n",
       "      <td>17.0</td>\n",
       "      <td>2.0</td>\n",
       "      <td>NaN</td>\n",
       "      <td>11.0</td>\n",
       "      <td>NaN</td>\n",
       "      <td>...</td>\n",
       "      <td>3.0</td>\n",
       "      <td>NaN</td>\n",
       "      <td>NaN</td>\n",
       "      <td>4.0</td>\n",
       "      <td>NaN</td>\n",
       "      <td>NaN</td>\n",
       "      <td>1.0</td>\n",
       "      <td>NaN</td>\n",
       "      <td>11.0</td>\n",
       "      <td>3.0</td>\n",
       "    </tr>\n",
       "    <tr>\n",
       "      <th>2015-01-01 03</th>\n",
       "      <td>NaN</td>\n",
       "      <td>2.0</td>\n",
       "      <td>1.0</td>\n",
       "      <td>1.0</td>\n",
       "      <td>NaN</td>\n",
       "      <td>14.0</td>\n",
       "      <td>1.0</td>\n",
       "      <td>1.0</td>\n",
       "      <td>NaN</td>\n",
       "      <td>NaN</td>\n",
       "      <td>...</td>\n",
       "      <td>2.0</td>\n",
       "      <td>NaN</td>\n",
       "      <td>NaN</td>\n",
       "      <td>NaN</td>\n",
       "      <td>NaN</td>\n",
       "      <td>NaN</td>\n",
       "      <td>2.0</td>\n",
       "      <td>1.0</td>\n",
       "      <td>8.0</td>\n",
       "      <td>1.0</td>\n",
       "    </tr>\n",
       "    <tr>\n",
       "      <th>2015-01-01 04</th>\n",
       "      <td>NaN</td>\n",
       "      <td>1.0</td>\n",
       "      <td>NaN</td>\n",
       "      <td>NaN</td>\n",
       "      <td>NaN</td>\n",
       "      <td>4.0</td>\n",
       "      <td>NaN</td>\n",
       "      <td>1.0</td>\n",
       "      <td>1.0</td>\n",
       "      <td>NaN</td>\n",
       "      <td>...</td>\n",
       "      <td>NaN</td>\n",
       "      <td>NaN</td>\n",
       "      <td>NaN</td>\n",
       "      <td>2.0</td>\n",
       "      <td>NaN</td>\n",
       "      <td>NaN</td>\n",
       "      <td>1.0</td>\n",
       "      <td>NaN</td>\n",
       "      <td>5.0</td>\n",
       "      <td>NaN</td>\n",
       "    </tr>\n",
       "  </tbody>\n",
       "</table>\n",
       "<p>5 rows × 38 columns</p>\n",
       "</div>"
      ],
      "text/plain": [
       "               Battery Park City  Bedford-Stuyvesant  Boerum Hill  \\\n",
       "date                                                                \n",
       "2015-01-01 00                2.0                 NaN          2.0   \n",
       "2015-01-01 01                NaN                 3.0          2.0   \n",
       "2015-01-01 02                1.0                 NaN          3.0   \n",
       "2015-01-01 03                NaN                 2.0          1.0   \n",
       "2015-01-01 04                NaN                 1.0          NaN   \n",
       "\n",
       "               Brooklyn Heights  Central Park  Chelsea  Chinatown  \\\n",
       "date                                                                \n",
       "2015-01-01 00               2.0           NaN     17.0        2.0   \n",
       "2015-01-01 01               2.0           NaN     20.0        5.0   \n",
       "2015-01-01 02               1.0           NaN     17.0        2.0   \n",
       "2015-01-01 03               1.0           NaN     14.0        1.0   \n",
       "2015-01-01 04               NaN           NaN      4.0        NaN   \n",
       "\n",
       "               Civic Center  Clinton Hill  Columbia St      ...       \\\n",
       "date                                                        ...        \n",
       "2015-01-01 00           1.0           6.0          NaN      ...        \n",
       "2015-01-01 01           2.0           3.0          NaN      ...        \n",
       "2015-01-01 02           NaN          11.0          NaN      ...        \n",
       "2015-01-01 03           1.0           NaN          NaN      ...        \n",
       "2015-01-01 04           1.0           1.0          NaN      ...        \n",
       "\n",
       "               Stuyvesant Town  Sunset Park  Theater District  Tribeca  \\\n",
       "date                                                                     \n",
       "2015-01-01 00              NaN          NaN               NaN      1.0   \n",
       "2015-01-01 01              5.0          NaN               NaN      5.0   \n",
       "2015-01-01 02              3.0          NaN               NaN      4.0   \n",
       "2015-01-01 03              2.0          NaN               NaN      NaN   \n",
       "2015-01-01 04              NaN          NaN               NaN      2.0   \n",
       "\n",
       "               Two Bridges  Upper East Side  Upper West Side  Vinegar Hill  \\\n",
       "date                                                                         \n",
       "2015-01-01 00          1.0              NaN              3.0           NaN   \n",
       "2015-01-01 01          NaN              NaN              2.0           NaN   \n",
       "2015-01-01 02          NaN              NaN              1.0           NaN   \n",
       "2015-01-01 03          NaN              NaN              2.0           1.0   \n",
       "2015-01-01 04          NaN              NaN              1.0           NaN   \n",
       "\n",
       "               West Village  Williamsburg  \n",
       "date                                       \n",
       "2015-01-01 00           4.0           2.0  \n",
       "2015-01-01 01          10.0           2.0  \n",
       "2015-01-01 02          11.0           3.0  \n",
       "2015-01-01 03           8.0           1.0  \n",
       "2015-01-01 04           5.0           NaN  \n",
       "\n",
       "[5 rows x 38 columns]"
      ]
     },
     "execution_count": 40,
     "metadata": {},
     "output_type": "execute_result"
    }
   ],
   "source": [
    "cb.head()"
   ]
  },
  {
   "cell_type": "markdown",
   "metadata": {},
   "source": [
    "## Write to a local CSV file"
   ]
  },
  {
   "cell_type": "code",
   "execution_count": 47,
   "metadata": {
    "ExecuteTime": {
     "end_time": "2018-04-02T05:28:02.618096Z",
     "start_time": "2018-04-02T05:28:02.495515Z"
    }
   },
   "outputs": [],
   "source": [
    "cb.to_csv('citibike_hourly.csv')"
   ]
  }
 ],
 "metadata": {
  "kernelspec": {
   "display_name": "Python 3",
   "language": "python",
   "name": "python3"
  },
  "language_info": {
   "codemirror_mode": {
    "name": "ipython",
    "version": 3
   },
   "file_extension": ".py",
   "mimetype": "text/x-python",
   "name": "python",
   "nbconvert_exporter": "python",
   "pygments_lexer": "ipython3",
   "version": "3.6.4"
  },
  "toc": {
   "nav_menu": {},
   "number_sections": true,
   "sideBar": true,
   "skip_h1_title": true,
   "title_cell": "Table of Contents",
   "title_sidebar": "Contents",
   "toc_cell": false,
   "toc_position": {},
   "toc_section_display": true,
   "toc_window_display": false
  },
  "varInspector": {
   "cols": {
    "lenName": 16,
    "lenType": 16,
    "lenVar": 40
   },
   "kernels_config": {
    "python": {
     "delete_cmd_postfix": "",
     "delete_cmd_prefix": "del ",
     "library": "var_list.py",
     "varRefreshCmd": "print(var_dic_list())"
    },
    "r": {
     "delete_cmd_postfix": ") ",
     "delete_cmd_prefix": "rm(",
     "library": "var_list.r",
     "varRefreshCmd": "cat(var_dic_list()) "
    }
   },
   "position": {
    "height": "338px",
    "left": "565px",
    "right": "20px",
    "top": "120px",
    "width": "354px"
   },
   "types_to_exclude": [
    "module",
    "function",
    "builtin_function_or_method",
    "instance",
    "_Feature"
   ],
   "window_display": false
  }
 },
 "nbformat": 4,
 "nbformat_minor": 2
}
