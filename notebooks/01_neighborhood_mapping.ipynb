{
 "cells": [
  {
   "cell_type": "markdown",
   "metadata": {},
   "source": [
    "# Mapping Latitude & Longitude Coordinates to NYC Neighborhoods"
   ]
  },
  {
   "cell_type": "markdown",
   "metadata": {},
   "source": [
    "* In this notebook, latitude and longitude coordinates in our data are mapped to NYC neighborhoods. This is done using a geojson file of NYC neighborhoods and matplotlib's path functionality. Each geographic coordinate is tested to see which neighborhood's boundary does it lie inside.  \n",
    "\n",
    "* CSV files are read in from Google Cloud Storage (GCS), neighborhood name added, and then written back as new files to GCS."
   ]
  },
  {
   "cell_type": "markdown",
   "metadata": {},
   "source": [
    "## Import necessary modules"
   ]
  },
  {
   "cell_type": "code",
   "execution_count": 1,
   "metadata": {
    "ExecuteTime": {
     "end_time": "2018-03-28T17:36:59.835784Z",
     "start_time": "2018-03-28T17:36:58.090034Z"
    }
   },
   "outputs": [],
   "source": [
    "import pandas as pd\n",
    "import numpy as np\n",
    "from pprint import pprint\n",
    "import json\n",
    "\n",
    "from matplotlib import path\n",
    "from datetime import datetime\n",
    "import matplotlib.pyplot as plt\n",
    "from matplotlib.ticker import FuncFormatter\n",
    "\n",
    "%matplotlib inline\n",
    "# !pip install -q google-cloud-storage\n",
    "from google.cloud import storage\n",
    "from io import StringIO, BytesIO"
   ]
  },
  {
   "cell_type": "code",
   "execution_count": 2,
   "metadata": {
    "ExecuteTime": {
     "end_time": "2018-03-28T17:37:01.844258Z",
     "start_time": "2018-03-28T17:37:01.840342Z"
    }
   },
   "outputs": [],
   "source": [
    "# set a high precision value to make it easier\n",
    "# to see different latitude and longitude values\n",
    "pd.set_option('precision', 15)"
   ]
  },
  {
   "cell_type": "markdown",
   "metadata": {},
   "source": [
    "## Connect to Google Cloud Storage (GCS)"
   ]
  },
  {
   "cell_type": "markdown",
   "metadata": {},
   "source": [
    "GCS stores files as \"blobs\" in \"buckets\" that are assigned to \"projects\". The following code connects variables to where the data is stored."
   ]
  },
  {
   "cell_type": "code",
   "execution_count": 3,
   "metadata": {
    "ExecuteTime": {
     "end_time": "2018-03-28T17:37:04.910526Z",
     "start_time": "2018-03-28T17:37:04.574906Z"
    }
   },
   "outputs": [
    {
     "name": "stdout",
     "output_type": "stream",
     "text": [
      "data/\n",
      "data/NYC_Transit_Subway_Entrance_And_Exit_Data.csv\n",
      "data/NY_neighborhoods.geojson\n",
      "data/citibike/201404-citibike-tripdata.csv\n",
      "data/citibike/201405-citibike-tripdata.csv\n"
     ]
    }
   ],
   "source": [
    "# get blob names from GCS\n",
    "gcs_client = storage.Client(project = 'airy-environs-194607')\n",
    "bucket = gcs_client.bucket('metis_bucket_av')\n",
    "\n",
    "get_lines = 5\n",
    "all_blobs = bucket.list_blobs(max_results = get_lines)\n",
    "\n",
    "for blob in list(all_blobs):\n",
    "    print(blob.name)"
   ]
  },
  {
   "cell_type": "markdown",
   "metadata": {},
   "source": [
    "## Functions to open, edit, and upload csv files"
   ]
  },
  {
   "cell_type": "code",
   "execution_count": 4,
   "metadata": {
    "ExecuteTime": {
     "end_time": "2018-03-28T17:37:07.611313Z",
     "start_time": "2018-03-28T17:37:07.485743Z"
    }
   },
   "outputs": [],
   "source": [
    "def open_file(fn):\n",
    "    '''\n",
    "    Args:\n",
    "    -----\n",
    "    fn: filepath of the csv \"blob\" on google storage\n",
    "    \n",
    "    Returns:\n",
    "    --------\n",
    "    pandas dataframe of opened csv file\n",
    "    '''\n",
    "    \n",
    "    # for this function to work, the bucket and \n",
    "    # client for GCS should already be defined\n",
    "    \n",
    "    blob = bucket.get_blob(fn)\n",
    "    bytes_obj = BytesIO(blob.download_as_string())\n",
    "    df = pd.read_csv(bytes_obj)\n",
    "    return df\n",
    "\n",
    "def add_neighborhood(df, lat_col, lon_col, new_col, remove_nonmatches=True):\n",
    "    '''\n",
    "    Args:\n",
    "    -----\n",
    "    df: dataframe with latitude and longitude coordinates\n",
    "    lat_col: name of column with latitude information\n",
    "    lon_col: name of column with longitude information\n",
    "    new_col: name desired for new column with neighborhood\n",
    "    remove_nonmatches: if True, any rows that are not matched\n",
    "                       to a neighborhood are not included in \n",
    "                       the returned dataframe\n",
    "    \n",
    "    Returns:\n",
    "    --------\n",
    "    pandas dataframe with neighborhood info in a new column\n",
    "    '''\n",
    "    \n",
    "    # function assumes that NYC neighborhood boundaries\n",
    "    # are already loaded into an object called geofile\n",
    "    \n",
    "    df[new_col] = np.zeros(len(df))\n",
    "    geo_points = list(zip(df[lon_col], df[lat_col]))\n",
    "\n",
    "    for feature in geofile['features']:\n",
    "        coords = feature['geometry']['coordinates'][0]\n",
    "        p = path.Path(coords)\n",
    "        inds = p.contains_points(geo_points)\n",
    "        list_neighborhoods = [str(feature['properties']['neighborhood'])]*np.sum(inds)\n",
    "        df.loc[df.index[inds], new_col] = list_neighborhoods\n",
    "    \n",
    "    # In all of the Uber files, there are pickups from \n",
    "    # NJ and outer NY suburbs - those do not match and\n",
    "    # return a 0. If 'remove_nonmatches' is set to True,\n",
    "    # they will be removed from the returned df.\n",
    "    \n",
    "    if remove_nonmatches:\n",
    "        df = df[df[new_col] != 0]\n",
    "    \n",
    "    return df\n",
    "\n",
    "def write_to_gcs(df, fn):\n",
    "    '''\n",
    "    Args:\n",
    "    -----\n",
    "    df: dataframe to write to GCS\n",
    "    fn: file path+name for the destination csv file\n",
    "    \n",
    "    Warning:\n",
    "    --------\n",
    "    This function does not return anything. It will\n",
    "    rewrite the original file stored on GCS if 'fn'\n",
    "    provided is same as the one used to read the file.\n",
    "    '''\n",
    "    \n",
    "    write_blob = bucket.blob(fn)\n",
    "    write_blob.upload_from_string(df.to_csv(index=False))\n",
    "    \n",
    "def open_add_write(blobname, writename='unspecified', \n",
    "                   lat_col = 'Lat', lon_col = 'Lon', \n",
    "                   new_col = 'Loc', remove_nonmatches=True):\n",
    "    '''\n",
    "    Args:\n",
    "    -----\n",
    "    blobname: list of blob/file on GCS to open\n",
    "    writename: list of blob/file on GCS to write to\n",
    "               > if not specified, original file \n",
    "                 will be overwritten'''\n",
    "    \n",
    "    if writename == 'unspecified':\n",
    "        writename = blobname\n",
    "    \n",
    "    read_rows = 0\n",
    "    wrote_rows = 0\n",
    "    \n",
    "    for i, fn in enumerate(blobname):\n",
    "        print(fn)\n",
    "        print('>> Opening')\n",
    "        df = open_file(fn)\n",
    "        read_rows += len(df)\n",
    "        \n",
    "        print('>> Adding neighborhoods')\n",
    "        df = add_neighborhood(df, lat_col, lon_col, \n",
    "                              new_col, remove_nonmatches)\n",
    "        \n",
    "        print('>> Writing back to GCS')\n",
    "        write_to_gcs(df, writename[i])\n",
    "        wrote_rows += len(df)\n",
    "        print('')\n",
    "    \n",
    "    print('Read {:,} rows'.format(read_rows))\n",
    "    print('Wrote back {:,} rows'.format(wrote_rows))"
   ]
  },
  {
   "cell_type": "markdown",
   "metadata": {},
   "source": [
    "## Uber data"
   ]
  },
  {
   "cell_type": "markdown",
   "metadata": {},
   "source": [
    "We can open the **NY_neighborhoods.geojson** file using Python's json module. "
   ]
  },
  {
   "cell_type": "code",
   "execution_count": 5,
   "metadata": {
    "ExecuteTime": {
     "end_time": "2018-03-28T17:37:09.474475Z",
     "start_time": "2018-03-28T17:37:09.372322Z"
    }
   },
   "outputs": [],
   "source": [
    "geofile = json.load(open('NY_neighborhoods.geojson'))"
   ]
  },
  {
   "cell_type": "markdown",
   "metadata": {},
   "source": [
    "### 2014 Uber data"
   ]
  },
  {
   "cell_type": "code",
   "execution_count": 6,
   "metadata": {
    "ExecuteTime": {
     "end_time": "2018-03-27T18:10:06.664443Z",
     "start_time": "2018-03-27T18:10:06.658253Z"
    }
   },
   "outputs": [
    {
     "name": "stdout",
     "output_type": "stream",
     "text": [
      "['data/uber-tlc-foil-response/uber-trip-data/uber-raw-data-apr14.csv',\n",
      " 'data/uber-tlc-foil-response/uber-trip-data/uber-raw-data-may14.csv',\n",
      " 'data/uber-tlc-foil-response/uber-trip-data/uber-raw-data-jun14.csv',\n",
      " 'data/uber-tlc-foil-response/uber-trip-data/uber-raw-data-jul14.csv',\n",
      " 'data/uber-tlc-foil-response/uber-trip-data/uber-raw-data-aug14.csv',\n",
      " 'data/uber-tlc-foil-response/uber-trip-data/uber-raw-data-sep14.csv']\n"
     ]
    }
   ],
   "source": [
    "blobpath = 'data/uber-tlc-foil-response/uber-trip-data/'\n",
    "\n",
    "# Uber data for 2014\n",
    "months = ['apr', 'may', 'jun', 'jul', 'aug', 'sep']\n",
    "file_str = 'uber-raw-data-{}14.csv'\n",
    "\n",
    "blobname = [blobpath + file_str.format(m) for m in months]\n",
    "pprint(blobname)"
   ]
  },
  {
   "cell_type": "code",
   "execution_count": null,
   "metadata": {
    "ExecuteTime": {
     "end_time": "2018-03-27T00:21:53.368340Z",
     "start_time": "2018-03-27T00:21:53.363385Z"
    }
   },
   "outputs": [],
   "source": [
    "open_add_write(blobname)"
   ]
  },
  {
   "cell_type": "markdown",
   "metadata": {},
   "source": [
    "### 2015 Uber data  \n",
    "\n",
    "However, the 2015 Uber data does not have latitude & longitude coordinates. What it does have are **locationID** numbers that we can match to a particular neighborhood using the **taxi_zone_lookup** file. "
   ]
  },
  {
   "cell_type": "code",
   "execution_count": 7,
   "metadata": {
    "ExecuteTime": {
     "end_time": "2018-03-27T18:10:23.919129Z",
     "start_time": "2018-03-27T18:10:11.195421Z"
    }
   },
   "outputs": [],
   "source": [
    "# open uber 2015 data\n",
    "\n",
    "uber15_fp = 'data/uber-tlc-foil-response/uber-trip-data/uber-raw-data-janjune-15.csv'\n",
    "df = open_file(uber15_fp)"
   ]
  },
  {
   "cell_type": "code",
   "execution_count": 8,
   "metadata": {
    "ExecuteTime": {
     "end_time": "2018-03-27T18:10:25.931013Z",
     "start_time": "2018-03-27T18:10:25.920366Z"
    }
   },
   "outputs": [
    {
     "data": {
      "text/html": [
       "<div>\n",
       "<style scoped>\n",
       "    .dataframe tbody tr th:only-of-type {\n",
       "        vertical-align: middle;\n",
       "    }\n",
       "\n",
       "    .dataframe tbody tr th {\n",
       "        vertical-align: top;\n",
       "    }\n",
       "\n",
       "    .dataframe thead th {\n",
       "        text-align: right;\n",
       "    }\n",
       "</style>\n",
       "<table border=\"1\" class=\"dataframe\">\n",
       "  <thead>\n",
       "    <tr style=\"text-align: right;\">\n",
       "      <th></th>\n",
       "      <th>Dispatching_base_num</th>\n",
       "      <th>Pickup_date</th>\n",
       "      <th>Affiliated_base_num</th>\n",
       "      <th>locationID</th>\n",
       "    </tr>\n",
       "  </thead>\n",
       "  <tbody>\n",
       "    <tr>\n",
       "      <th>0</th>\n",
       "      <td>B02617</td>\n",
       "      <td>2015-05-17 09:47:00</td>\n",
       "      <td>B02617</td>\n",
       "      <td>141</td>\n",
       "    </tr>\n",
       "    <tr>\n",
       "      <th>1</th>\n",
       "      <td>B02617</td>\n",
       "      <td>2015-05-17 09:47:00</td>\n",
       "      <td>B02617</td>\n",
       "      <td>65</td>\n",
       "    </tr>\n",
       "    <tr>\n",
       "      <th>2</th>\n",
       "      <td>B02617</td>\n",
       "      <td>2015-05-17 09:47:00</td>\n",
       "      <td>B02617</td>\n",
       "      <td>100</td>\n",
       "    </tr>\n",
       "    <tr>\n",
       "      <th>3</th>\n",
       "      <td>B02617</td>\n",
       "      <td>2015-05-17 09:47:00</td>\n",
       "      <td>B02774</td>\n",
       "      <td>80</td>\n",
       "    </tr>\n",
       "    <tr>\n",
       "      <th>4</th>\n",
       "      <td>B02617</td>\n",
       "      <td>2015-05-17 09:47:00</td>\n",
       "      <td>B02617</td>\n",
       "      <td>90</td>\n",
       "    </tr>\n",
       "  </tbody>\n",
       "</table>\n",
       "</div>"
      ],
      "text/plain": [
       "  Dispatching_base_num          Pickup_date Affiliated_base_num  locationID\n",
       "0               B02617  2015-05-17 09:47:00              B02617         141\n",
       "1               B02617  2015-05-17 09:47:00              B02617          65\n",
       "2               B02617  2015-05-17 09:47:00              B02617         100\n",
       "3               B02617  2015-05-17 09:47:00              B02774          80\n",
       "4               B02617  2015-05-17 09:47:00              B02617          90"
      ]
     },
     "execution_count": 8,
     "metadata": {},
     "output_type": "execute_result"
    }
   ],
   "source": [
    "df.head()"
   ]
  },
  {
   "cell_type": "code",
   "execution_count": 9,
   "metadata": {
    "ExecuteTime": {
     "end_time": "2018-03-27T18:10:30.179910Z",
     "start_time": "2018-03-27T18:10:29.689790Z"
    }
   },
   "outputs": [],
   "source": [
    "# open taxi lookup data\n",
    "\n",
    "taxi_zone_fp = 'data/uber-tlc-foil-response/uber-trip-data/taxi-zone-lookup.csv'\n",
    "taxi = open_file(taxi_zone_fp)"
   ]
  },
  {
   "cell_type": "code",
   "execution_count": 10,
   "metadata": {
    "ExecuteTime": {
     "end_time": "2018-03-27T18:10:38.341076Z",
     "start_time": "2018-03-27T18:10:31.897203Z"
    }
   },
   "outputs": [],
   "source": [
    "# merge information from 2 dataframes and drop \n",
    "# unnecessary columns\n",
    "\n",
    "df = df.merge(taxi, how='left', left_on='locationID', \n",
    "              right_on='LocationID')\n",
    "df.drop(labels=['Affiliated_base_num', 'LocationID'], \n",
    "        axis=1, inplace=True)"
   ]
  },
  {
   "cell_type": "code",
   "execution_count": 11,
   "metadata": {
    "ExecuteTime": {
     "end_time": "2018-03-27T18:10:39.533241Z",
     "start_time": "2018-03-27T18:10:39.522285Z"
    }
   },
   "outputs": [
    {
     "data": {
      "text/html": [
       "<div>\n",
       "<style scoped>\n",
       "    .dataframe tbody tr th:only-of-type {\n",
       "        vertical-align: middle;\n",
       "    }\n",
       "\n",
       "    .dataframe tbody tr th {\n",
       "        vertical-align: top;\n",
       "    }\n",
       "\n",
       "    .dataframe thead th {\n",
       "        text-align: right;\n",
       "    }\n",
       "</style>\n",
       "<table border=\"1\" class=\"dataframe\">\n",
       "  <thead>\n",
       "    <tr style=\"text-align: right;\">\n",
       "      <th></th>\n",
       "      <th>Dispatching_base_num</th>\n",
       "      <th>Pickup_date</th>\n",
       "      <th>locationID</th>\n",
       "      <th>Borough</th>\n",
       "      <th>Zone</th>\n",
       "    </tr>\n",
       "  </thead>\n",
       "  <tbody>\n",
       "    <tr>\n",
       "      <th>0</th>\n",
       "      <td>B02617</td>\n",
       "      <td>2015-05-17 09:47:00</td>\n",
       "      <td>141</td>\n",
       "      <td>Manhattan</td>\n",
       "      <td>Lenox Hill West</td>\n",
       "    </tr>\n",
       "    <tr>\n",
       "      <th>1</th>\n",
       "      <td>B02617</td>\n",
       "      <td>2015-05-17 09:47:00</td>\n",
       "      <td>65</td>\n",
       "      <td>Brooklyn</td>\n",
       "      <td>Downtown Brooklyn/MetroTech</td>\n",
       "    </tr>\n",
       "    <tr>\n",
       "      <th>2</th>\n",
       "      <td>B02617</td>\n",
       "      <td>2015-05-17 09:47:00</td>\n",
       "      <td>100</td>\n",
       "      <td>Manhattan</td>\n",
       "      <td>Garment District</td>\n",
       "    </tr>\n",
       "    <tr>\n",
       "      <th>3</th>\n",
       "      <td>B02617</td>\n",
       "      <td>2015-05-17 09:47:00</td>\n",
       "      <td>80</td>\n",
       "      <td>Brooklyn</td>\n",
       "      <td>East Williamsburg</td>\n",
       "    </tr>\n",
       "    <tr>\n",
       "      <th>4</th>\n",
       "      <td>B02617</td>\n",
       "      <td>2015-05-17 09:47:00</td>\n",
       "      <td>90</td>\n",
       "      <td>Manhattan</td>\n",
       "      <td>Flatiron</td>\n",
       "    </tr>\n",
       "  </tbody>\n",
       "</table>\n",
       "</div>"
      ],
      "text/plain": [
       "  Dispatching_base_num          Pickup_date  locationID    Borough  \\\n",
       "0               B02617  2015-05-17 09:47:00         141  Manhattan   \n",
       "1               B02617  2015-05-17 09:47:00          65   Brooklyn   \n",
       "2               B02617  2015-05-17 09:47:00         100  Manhattan   \n",
       "3               B02617  2015-05-17 09:47:00          80   Brooklyn   \n",
       "4               B02617  2015-05-17 09:47:00          90  Manhattan   \n",
       "\n",
       "                          Zone  \n",
       "0              Lenox Hill West  \n",
       "1  Downtown Brooklyn/MetroTech  \n",
       "2             Garment District  \n",
       "3            East Williamsburg  \n",
       "4                     Flatiron  "
      ]
     },
     "execution_count": 11,
     "metadata": {},
     "output_type": "execute_result"
    }
   ],
   "source": [
    "df.head()"
   ]
  },
  {
   "cell_type": "markdown",
   "metadata": {},
   "source": [
    "Great!  \n",
    "\n",
    "However, these neighborhood names might not match the ones from the geojson file. We can use fuzzy text matching to replace these taxi data neighborhoods from our defined neighborhoods that we used for the Uber 2014 data."
   ]
  },
  {
   "cell_type": "markdown",
   "metadata": {},
   "source": [
    "#### Fuzzy text matching"
   ]
  },
  {
   "cell_type": "code",
   "execution_count": null,
   "metadata": {
    "ExecuteTime": {
     "end_time": "2018-03-27T00:51:33.724463Z",
     "start_time": "2018-03-27T00:51:23.600369Z"
    }
   },
   "outputs": [],
   "source": [
    "# installing fuzzywuzzy\n",
    "# !pip install fuzzywuzzy[speedup]"
   ]
  },
  {
   "cell_type": "code",
   "execution_count": 18,
   "metadata": {
    "ExecuteTime": {
     "end_time": "2018-03-27T18:13:00.912998Z",
     "start_time": "2018-03-27T18:13:00.791192Z"
    }
   },
   "outputs": [],
   "source": [
    "from fuzzywuzzy import fuzz\n",
    "from fuzzywuzzy import process"
   ]
  },
  {
   "cell_type": "code",
   "execution_count": 12,
   "metadata": {
    "ExecuteTime": {
     "end_time": "2018-03-27T18:10:54.135333Z",
     "start_time": "2018-03-27T18:10:54.130054Z"
    }
   },
   "outputs": [],
   "source": [
    "# make a list of geographic neighborhoods from geojson file\n",
    "# all trips should be translated to these neighborhoods\n",
    "\n",
    "geo_areas = []\n",
    "for i in geofile['features']:\n",
    "    name = i['properties']['neighborhood']\n",
    "    geo_areas.append(name)"
   ]
  },
  {
   "cell_type": "code",
   "execution_count": 15,
   "metadata": {
    "ExecuteTime": {
     "end_time": "2018-03-27T18:11:21.517595Z",
     "start_time": "2018-03-27T18:11:20.834475Z"
    }
   },
   "outputs": [],
   "source": [
    "# get list of neighborhoods from the taxi dataset\n",
    "taxi_zones = df.Zone.unique()"
   ]
  },
  {
   "cell_type": "code",
   "execution_count": 30,
   "metadata": {
    "ExecuteTime": {
     "end_time": "2018-03-27T18:23:40.898315Z",
     "start_time": "2018-03-27T18:23:40.560713Z"
    }
   },
   "outputs": [],
   "source": [
    "# use fuzzy text matching to translate from taxi neighborhood\n",
    "# names to geojson neighborhood names\n",
    "\n",
    "from collections import defaultdict\n",
    "\n",
    "top_match = defaultdict(str)\n",
    "for tz in taxi_zones:\n",
    "    matches = defaultdict(int)\n",
    "    for ind, gz in enumerate(geo_areas):\n",
    "        matches[gz] = fuzz.ratio(tz, gz)\n",
    "    top_match[tz] = max(matches, key=matches.get)"
   ]
  },
  {
   "cell_type": "code",
   "execution_count": 35,
   "metadata": {
    "ExecuteTime": {
     "end_time": "2018-03-27T19:21:19.919759Z",
     "start_time": "2018-03-27T19:21:19.903792Z"
    },
    "scrolled": true
   },
   "outputs": [
    {
     "name": "stdout",
     "output_type": "stream",
     "text": [
      "Allerton/Pelham Gardens: Pelham Gardens\n",
      "Alphabet City: Grant City\n",
      "Arden Heights: Arden Heights\n",
      "Arrochar/Fort Wadsworth: Fort Wadsworth\n",
      "Astoria: Astoria\n",
      "Astoria Park: Astoria\n",
      "Auburndale: Bronxdale\n",
      "Baisley Park: Marine Park\n",
      "Bath Beach: Bath Beach\n",
      "Battery Park: Battery Park City\n",
      "Battery Park City: Battery Park City\n",
      "Bay Ridge: Bay Ridge\n",
      "Bay Terrace/Fort Totten: Bay Terrace\n",
      "Bayside: Bayside\n",
      "Bedford: Bedford-Stuyvesant\n",
      "Bedford Park: Borough Park\n",
      "Bellerose: Bellerose\n",
      "Belmont: Belmont\n",
      "Bensonhurst East: Bensonhurst\n",
      "Bensonhurst West: Bensonhurst\n",
      "Bloomfield/Emerson Hill: Emerson Hill\n",
      "Bloomingdale: Bronxdale\n",
      "Boerum Hill: Boerum Hill\n",
      "Borough Park: Borough Park\n",
      "Breezy Point/Fort Tilden/Riis Beach: Breezy Point\n",
      "Briarwood/Jamaica Hills: Jamaica Hills\n",
      "Brighton Beach: Brighton Beach\n",
      "Broad Channel: Broad Channel\n",
      "Bronx Park: Bronx Park\n",
      "Bronxdale: Bronxdale\n",
      "Brooklyn Heights: Brooklyn Heights\n",
      "Brooklyn Navy Yard: Navy Yard\n",
      "Brownsville: Brownsville\n",
      "Bushwick North: Bushwick\n",
      "Bushwick South: Bushwick\n",
      "Cambria Heights: Cambria Heights\n",
      "Canarsie: Canarsie\n",
      "Carroll Gardens: Carroll Gardens\n",
      "Central Harlem: Central Park\n",
      "Central Harlem North: Central Park\n",
      "Central Park: Central Park\n",
      "Charleston/Tottenville: Tottenville\n",
      "Chinatown: Chinatown\n",
      "City Island: City Island\n",
      "Claremont/Bathgate: Claremont Village\n",
      "Clinton East: Clinton Hill\n",
      "Clinton Hill: Clinton Hill\n",
      "Clinton West: Clinton Hill\n",
      "Co-Op City: Co-op City\n",
      "Cobble Hill: Cobble Hill\n",
      "College Point: College Point\n",
      "Columbia Street: Columbia St\n",
      "Coney Island: Coney Island\n",
      "Corona: Corona\n",
      "Country Club: Country Club\n",
      "Crotona Park: Crotona Park\n",
      "Crotona Park East: Crotona Park\n",
      "Crown Heights North: Crown Heights\n",
      "Crown Heights South: Crown Heights\n",
      "Cypress Hills: Cypress Hills\n",
      "DUMBO/Vinegar Hill: Vinegar Hill\n",
      "Douglaston: Douglaston\n",
      "Downtown Brooklyn/MetroTech: Downtown Brooklyn\n",
      "Dyker Heights: Dyker Heights\n",
      "East Chelsea: Chelsea\n",
      "East Concourse/Concourse Village: Concourse Village\n",
      "East Elmhurst: East Elmhurst\n",
      "East Flatbush/Farragut: East Flatbush\n",
      "East Flatbush/Remsen Village: East Flatbush\n",
      "East Flushing: East Flatbush\n",
      "East Harlem North: East Harlem\n",
      "East Harlem South: East Harlem\n",
      "East New York: East New York\n",
      "East New York/Pennsylvania Avenue: East New York\n",
      "East Tremont: Tremont\n",
      "East Village: East Village\n",
      "East Williamsburg: Williamsburg\n",
      "Eastchester: Eastchester\n",
      "Elmhurst: Elmhurst\n",
      "Elmhurst/Maspeth: Elmhurst\n",
      "Eltingville/Annadale/Prince's Bay: Prince's Bay\n",
      "Erasmus: East Elmhurst\n",
      "Far Rockaway: Far Rockaway\n",
      "Financial District North: Financial District\n",
      "Financial District South: Financial District\n",
      "Flatbush/Ditmas Park: Flatbush\n",
      "Flatiron: Flatiron District\n",
      "Flatlands: Flatlands\n",
      "Flushing: Flushing\n",
      "Flushing Meadows-Corona Park: Flushing Meadows Corona Park\n",
      "Fordham South: Fordham\n",
      "Forest Hills: Forest Hills\n",
      "Forest Park/Highland Park: Forest Park\n",
      "Fort Greene: Fort Greene\n",
      "Fresh Meadows: Fresh Meadows\n",
      "Freshkills Park: Freshkills Park\n",
      "Garment District: Flatiron District\n",
      "Glen Oaks: Glen Oaks\n",
      "Glendale: Glendale\n",
      "Governor's Island/Ellis Island/Liberty Island: Governors Island\n",
      "Gowanus: Gowanus\n",
      "Gramercy: Gramercy\n",
      "Gravesend: Gravesend\n",
      "Great Kills: Great Kills\n",
      "Great Kills Park: Great Kills Park\n",
      "Green-Wood Cemetery: Green-Wood Cemetery\n",
      "Greenpoint: Greenpoint\n",
      "Greenwich Village North: Greenwich Village\n",
      "Greenwich Village South: Greenwich Village\n",
      "Grymes Hill/Clifton: Grymes Hill\n",
      "Hamilton Heights: Washington Heights\n",
      "Hammels/Arverne: Arverne\n",
      "Heartland Village/Todt Hill: East Village\n",
      "Highbridge: Highbridge\n",
      "Highbridge Park: Highbridge\n",
      "Hillcrest/Pomonok: Willowbrook\n",
      "Hollis: Hollis\n",
      "Homecrest: Shore Acres\n",
      "Howard Beach: Howard Beach\n",
      "Hudson Sq: Hunts Point\n",
      "Hunts Point: Hunts Point\n",
      "Inwood: Inwood\n",
      "Inwood Hill Park: Great Kills Park\n",
      "JFK Airport: LaGuardia Airport\n",
      "Jackson Heights: Jackson Heights\n",
      "Jamaica: Jamaica\n",
      "Jamaica Bay: Jamaica Bay\n",
      "Jamaica Estates: Jamaica Estates\n",
      "Kensington: Kensington\n",
      "Kew Gardens: Kew Gardens\n",
      "Kew Gardens Hills: Kew Gardens Hills\n",
      "Kingsbridge Heights: Morningside Heights\n",
      "Kips Bay: Kips Bay\n",
      "LaGuardia Airport: LaGuardia Airport\n",
      "Laurelton: Laurelton\n",
      "Lenox Hill East: Clinton Hill\n",
      "Lenox Hill West: Clinton Hill\n",
      "Lincoln Square East: Bensonhurst\n",
      "Lincoln Square West: Bensonhurst\n",
      "Little Italy/NoLiTa: Little Italy\n",
      "Long Island City/Hunters Point: Long Island City\n",
      "Long Island City/Queens Plaza: Long Island City\n",
      "Longwood: Longwood\n",
      "Lower East Side: Lower East Side\n",
      "Madison: Midtown\n",
      "Manhattan Beach: Manhattan Beach\n",
      "Manhattan Valley: Manhattan Beach\n",
      "Manhattanville: Manhattan Beach\n",
      "Marble Hill: Marble Hill\n",
      "Marine Park/Floyd Bennett Field: Floyd Bennett Field\n",
      "Marine Park/Mill Basin: Marine Park\n",
      "Mariners Harbor: Mariners Harbor\n",
      "Maspeth: Maspeth\n",
      "Meatpacking/West Village West: West Village\n",
      "Melrose South: Melrose\n",
      "Middle Village: Middle Village\n",
      "Midtown Center: Midtown\n",
      "Midtown East: Midtown\n",
      "Midtown North: Midtown\n",
      "Midtown South: Midtown\n",
      "Midwood: Midwood\n",
      "Morningside Heights: Morningside Heights\n",
      "Morrisania/Melrose: Morrisania\n",
      "Mott Haven/Port Morris: Port Morris\n",
      "Mount Hope: Mount Hope\n",
      "Murray Hill: Murray Hill\n",
      "Murray Hill-Queens: Murray Hill\n",
      "New Dorp/Midland Beach: New Dorp Beach\n",
      "Newark Airport: LaGuardia Airport\n",
      "North Corona: Corona\n",
      "Norwood: Norwood\n",
      "Oakland Gardens: Pelham Gardens\n",
      "Oakwood: Oakwood\n",
      "Ocean Hill: Dongan Hills\n",
      "Ocean Parkway South: Ozone Park\n",
      "Old Astoria: Astoria\n",
      "Ozone Park: Ozone Park\n",
      "Park Slope: Park Slope\n",
      "Parkchester: Parkchester\n",
      "Pelham Bay: Pelham Bay\n",
      "Pelham Bay Park: Pelham Bay Park\n",
      "Pelham Parkway: Pelham Bay Park\n",
      "Penn Station/Madison Sq West: John F. Kennedy International Airport\n",
      "Port Richmond: Port Richmond\n",
      "Prospect Heights: Prospect Heights\n",
      "Prospect Park: Prospect Park\n",
      "Prospect-Lefferts Gardens: Prospect-Lefferts Gardens\n",
      "Queens Village: Queens Village\n",
      "Queensboro Hill: Queens Village\n",
      "Queensbridge/Ravenswood: Ridgewood\n",
      "Randalls Island: Randall's Island\n",
      "Red Hook: Red Hook\n",
      "Rego Park: Rego Park\n",
      "Richmond Hill: Richmond Hill\n",
      "Ridgewood: Ridgewood\n",
      "Riverdale/North Riverdale/Fieldston: North Riverdale\n",
      "Rockaway Park: Rockaway Park\n",
      "Roosevelt Island: Roosevelt Island\n",
      "Rosedale: Rosedale\n",
      "Rossville/Woodrow: Rossville\n",
      "Saint Albans: St. Albans\n",
      "Saint George/New Brighton: New Brighton\n",
      "Saint Michaels Cemetery/Woodside: Eastchester\n",
      "Schuylerville/Edgewater Park: Schuylerville\n",
      "Seaport: Neponsit\n",
      "Sheepshead Bay: Sheepshead Bay\n",
      "SoHo: SoHo\n",
      "Soundview/Bruckner: Soundview\n",
      "Soundview/Castle Hill: Castle Hill\n",
      "South Beach/Dongan Hills: Dongan Hills\n",
      "South Jamaica: Jamaica\n",
      "South Ozone Park: South Ozone Park\n",
      "South Williamsburg: Williamsburg\n",
      "Springfield Gardens North: Springfield Gardens\n",
      "Springfield Gardens South: Springfield Gardens\n",
      "Spuyten Duyvil/Kingsbridge: Spuyten Duyvil\n",
      "Stapleton: Stapleton\n",
      "Starrett City: Grant City\n",
      "Steinway: Ditmars Steinway\n",
      "Stuy Town/Peter Cooper Village: Concourse Village\n",
      "Stuyvesant Heights: Stuyvesant Town\n",
      "Sunnyside: Sunnyside\n",
      "Sunset Park East: Sunset Park\n",
      "Sunset Park West: Sunset Park\n",
      "Sutton Place/Turtle Bay North: Fort Wadsworth\n",
      "Times Sq/Theatre District: Theater District\n",
      "TriBeCa/Civic Center: Civic Center\n",
      "Two Bridges/Seward Park: Two Bridges\n",
      "UN/Turtle Bay South: Fort Wadsworth\n",
      "Union Sq: Unionport\n",
      "University Heights/Morris Heights: University Heights\n",
      "Unknown: Chinatown\n",
      "Upper East Side North: Upper East Side\n",
      "Upper East Side South: Upper East Side\n",
      "Upper West Side North: Upper West Side\n",
      "Upper West Side South: Upper West Side\n",
      "Van Cortlandt Park: Van Cortlandt Park\n",
      "Van Cortlandt Village: Van Cortlandt Park\n",
      "Van Nest/Morris Park: Morris Park\n",
      "Washington Heights North: Washington Heights\n",
      "Washington Heights South: Washington Heights\n",
      "West Brighton: West Brighton\n",
      "West Chelsea/Hudson Yards: Westchester Square\n",
      "West Concourse: Concourse\n",
      "West Farms/Bronx River: West Farms\n",
      "West Village: West Village\n",
      "Westchester Village/Unionport: Westchester Square\n",
      "Westerleigh: Westerleigh\n",
      "Whitestone: Whitestone\n",
      "Willets Point: College Point\n",
      "Williamsbridge/Olinville: Williamsbridge\n",
      "Williamsburg (North Side): Williamsbridge\n",
      "Williamsburg (South Side): Williamsbridge\n",
      "Windsor Terrace: Windsor Terrace\n",
      "Woodhaven: Woodhaven\n",
      "Woodlawn/Wakefield: Wakefield\n",
      "Woodside: Woodside\n",
      "World Trade Center: Fort Greene\n",
      "Yorkville East: Rossville\n",
      "Yorkville West: Rossville\n"
     ]
    }
   ],
   "source": [
    "# print top matches in the following format: \n",
    "# taxi neighborhood name: geojson neighborhood name\n",
    "for tz in sorted(taxi_zones):\n",
    "    print(tz, end=': ')\n",
    "    print(top_match[tz])"
   ]
  },
  {
   "cell_type": "markdown",
   "metadata": {},
   "source": [
    "After a manual search, a few mistakes and incorrect matches are discovered. The following dictionary contains the corrections that are needed."
   ]
  },
  {
   "cell_type": "code",
   "execution_count": 34,
   "metadata": {
    "ExecuteTime": {
     "end_time": "2018-03-27T19:21:07.068757Z",
     "start_time": "2018-03-27T19:21:07.043361Z"
    }
   },
   "outputs": [],
   "source": [
    "neighborhood_corrections = {'Alphabet City': 'East Village', \n",
    "                            'Auburndale': 'Fresh Meadows',\n",
    "                            'Baisley Park': 'Jamaica',\n",
    "                            'Bloomingdale': 'Upper West Side', \n",
    "                            'Central Harlem': 'Harlem',\n",
    "                            'Central Harlem North': 'Harlem',\n",
    "                            'East Flushing': 'Flushing',\n",
    "                            'Erasmus': 'East Flatbush',\n",
    "                            'Garment District': 'Midtown', \n",
    "                            'Hamilton Heights': 'Harlem',\n",
    "                            'Heartland Village/Todt Hill': 'Todt Hill',\n",
    "                            'Hillcrest/Pomonok': 'Flushing',\n",
    "                            'Homecrest': 'Sheepshead Bay',\n",
    "                            'Hudson Sq': 'SoHo', \n",
    "                            'Inwood Hill Park': 'Inwood',\n",
    "                            'JFK Airport': 'John F. Kennedy International Airport',\n",
    "                            'Kingsbridge Heights': 'Kingsbridge',\n",
    "                            'Lenox Hill East': 'Upper East Side',\n",
    "                            'Lenox Hill West': 'Upper East Side',\n",
    "                            'Lincoln Square East': 'Upper West Side',\n",
    "                            'Lincoln Square West': 'Upper West Side',\n",
    "                            'Madison': 'Flatiron',\n",
    "                            'Manhattan Valley': 'Upper West Side',\n",
    "                            'Manhattanville': 'Harlem',\n",
    "                            'New Dorp/Midland Beach': 'New Dorp',\n",
    "                            'Newark Airport': '0',\n",
    "                            'Oakland Gardens': 'Fresh Meadows',\n",
    "                            'Ocean Hill': 'Bedford-Stuyvesant',\n",
    "                            'Ocean Parkway South': 'Sheepshead Bay',\n",
    "                            'Penn Station/Madison Sq West': 'Midtown',\n",
    "                            'Queensboro Hill': 'Flushing',\n",
    "                            'Queensbridge/Ravenswood': 'Astoria',\n",
    "                            'Saint Michaels Cemetery/Woodside': 'Woodside',\n",
    "                            'Seaport': 'Financial District',\n",
    "                            'Starrett City': 'East New York',\n",
    "                            'Stuy Town/Peter Cooper Village': 'Stuyvesant Town',\n",
    "                            'Stuyvesant Heights': 'Bedford-Stuyvesant',\n",
    "                            'Sutton Place/Turtle Bay North': 'Midtown',\n",
    "                            'UN/Turtle Bay South': 'Midtown',\n",
    "                            'Union Sq': 'Gramercy',\n",
    "                            'Unknown': '0',\n",
    "                            'West Chelsea/Hudson Yards': 'Chelsea',\n",
    "                            'Willets Point': 'Flushing',\n",
    "                            'Williamsburg (North Side)': 'Williamsburg',\n",
    "                            'Williamsburg (South Side)': 'Williamsburg',\n",
    "                            'World Trade Center': 'Financial District',\n",
    "                            'Yorkville East': 'Upper East Side',\n",
    "                            'Yorkville West': 'Upper East Side'}"
   ]
  },
  {
   "cell_type": "code",
   "execution_count": 42,
   "metadata": {
    "ExecuteTime": {
     "end_time": "2018-03-27T20:06:46.083213Z",
     "start_time": "2018-03-27T20:06:46.058994Z"
    }
   },
   "outputs": [
    {
     "name": "stdout",
     "output_type": "stream",
     "text": [
      "defaultdict(<class 'str'>,\n",
      "            {'Allerton/Pelham Gardens': 'Pelham Gardens',\n",
      "             'Alphabet City': 'East Village',\n",
      "             'Arden Heights': 'Arden Heights',\n",
      "             'Arrochar/Fort Wadsworth': 'Fort Wadsworth',\n",
      "             'Astoria': 'Astoria',\n",
      "             'Astoria Park': 'Astoria',\n",
      "             'Auburndale': 'Fresh Meadows',\n",
      "             'Baisley Park': 'Jamaica',\n",
      "             'Bath Beach': 'Bath Beach',\n",
      "             'Battery Park': 'Battery Park City',\n",
      "             'Battery Park City': 'Battery Park City',\n",
      "             'Bay Ridge': 'Bay Ridge',\n",
      "             'Bay Terrace/Fort Totten': 'Bay Terrace',\n",
      "             'Bayside': 'Bayside',\n",
      "             'Bedford': 'Bedford-Stuyvesant',\n",
      "             'Bedford Park': 'Borough Park',\n",
      "             'Bellerose': 'Bellerose',\n",
      "             'Belmont': 'Belmont',\n",
      "             'Bensonhurst East': 'Bensonhurst',\n",
      "             'Bensonhurst West': 'Bensonhurst',\n",
      "             'Bloomfield/Emerson Hill': 'Emerson Hill',\n",
      "             'Bloomingdale': 'Upper West Side',\n",
      "             'Boerum Hill': 'Boerum Hill',\n",
      "             'Borough Park': 'Borough Park',\n",
      "             'Breezy Point/Fort Tilden/Riis Beach': 'Breezy Point',\n",
      "             'Briarwood/Jamaica Hills': 'Jamaica Hills',\n",
      "             'Brighton Beach': 'Brighton Beach',\n",
      "             'Broad Channel': 'Broad Channel',\n",
      "             'Bronx Park': 'Bronx Park',\n",
      "             'Bronxdale': 'Bronxdale',\n",
      "             'Brooklyn Heights': 'Brooklyn Heights',\n",
      "             'Brooklyn Navy Yard': 'Navy Yard',\n",
      "             'Brownsville': 'Brownsville',\n",
      "             'Bushwick North': 'Bushwick',\n",
      "             'Bushwick South': 'Bushwick',\n",
      "             'Cambria Heights': 'Cambria Heights',\n",
      "             'Canarsie': 'Canarsie',\n",
      "             'Carroll Gardens': 'Carroll Gardens',\n",
      "             'Central Harlem': 'Harlem',\n",
      "             'Central Harlem North': 'Harlem',\n",
      "             'Central Park': 'Central Park',\n",
      "             'Charleston/Tottenville': 'Tottenville',\n",
      "             'Chinatown': 'Chinatown',\n",
      "             'City Island': 'City Island',\n",
      "             'Claremont/Bathgate': 'Claremont Village',\n",
      "             'Clinton East': 'Clinton Hill',\n",
      "             'Clinton Hill': 'Clinton Hill',\n",
      "             'Clinton West': 'Clinton Hill',\n",
      "             'Co-Op City': 'Co-op City',\n",
      "             'Cobble Hill': 'Cobble Hill',\n",
      "             'College Point': 'College Point',\n",
      "             'Columbia Street': 'Columbia St',\n",
      "             'Coney Island': 'Coney Island',\n",
      "             'Corona': 'Corona',\n",
      "             'Country Club': 'Country Club',\n",
      "             'Crotona Park': 'Crotona Park',\n",
      "             'Crotona Park East': 'Crotona Park',\n",
      "             'Crown Heights North': 'Crown Heights',\n",
      "             'Crown Heights South': 'Crown Heights',\n",
      "             'Cypress Hills': 'Cypress Hills',\n",
      "             'DUMBO/Vinegar Hill': 'Vinegar Hill',\n",
      "             'Douglaston': 'Douglaston',\n",
      "             'Downtown Brooklyn/MetroTech': 'Downtown Brooklyn',\n",
      "             'Dyker Heights': 'Dyker Heights',\n",
      "             'East Chelsea': 'Chelsea',\n",
      "             'East Concourse/Concourse Village': 'Concourse Village',\n",
      "             'East Elmhurst': 'East Elmhurst',\n",
      "             'East Flatbush/Farragut': 'East Flatbush',\n",
      "             'East Flatbush/Remsen Village': 'East Flatbush',\n",
      "             'East Flushing': 'Flushing',\n",
      "             'East Harlem North': 'East Harlem',\n",
      "             'East Harlem South': 'East Harlem',\n",
      "             'East New York': 'East New York',\n",
      "             'East New York/Pennsylvania Avenue': 'East New York',\n",
      "             'East Tremont': 'Tremont',\n",
      "             'East Village': 'East Village',\n",
      "             'East Williamsburg': 'Williamsburg',\n",
      "             'Eastchester': 'Eastchester',\n",
      "             'Elmhurst': 'Elmhurst',\n",
      "             'Elmhurst/Maspeth': 'Elmhurst',\n",
      "             \"Eltingville/Annadale/Prince's Bay\": \"Prince's Bay\",\n",
      "             'Erasmus': 'East Flatbush',\n",
      "             'Far Rockaway': 'Far Rockaway',\n",
      "             'Financial District North': 'Financial District',\n",
      "             'Financial District South': 'Financial District',\n",
      "             'Flatbush/Ditmas Park': 'Flatbush',\n",
      "             'Flatiron': 'Flatiron District',\n",
      "             'Flatlands': 'Flatlands',\n",
      "             'Flushing': 'Flushing',\n",
      "             'Flushing Meadows-Corona Park': 'Flushing Meadows Corona Park',\n",
      "             'Fordham South': 'Fordham',\n",
      "             'Forest Hills': 'Forest Hills',\n",
      "             'Forest Park/Highland Park': 'Forest Park',\n",
      "             'Fort Greene': 'Fort Greene',\n",
      "             'Fresh Meadows': 'Fresh Meadows',\n",
      "             'Freshkills Park': 'Freshkills Park',\n",
      "             'Garment District': 'Midtown',\n",
      "             'Glen Oaks': 'Glen Oaks',\n",
      "             'Glendale': 'Glendale',\n",
      "             \"Governor's Island/Ellis Island/Liberty Island\": 'Governors '\n",
      "                                                              'Island',\n",
      "             'Gowanus': 'Gowanus',\n",
      "             'Gramercy': 'Gramercy',\n",
      "             'Gravesend': 'Gravesend',\n",
      "             'Great Kills': 'Great Kills',\n",
      "             'Great Kills Park': 'Great Kills Park',\n",
      "             'Green-Wood Cemetery': 'Green-Wood Cemetery',\n",
      "             'Greenpoint': 'Greenpoint',\n",
      "             'Greenwich Village North': 'Greenwich Village',\n",
      "             'Greenwich Village South': 'Greenwich Village',\n",
      "             'Grymes Hill/Clifton': 'Grymes Hill',\n",
      "             'Hamilton Heights': 'Harlem',\n",
      "             'Hammels/Arverne': 'Arverne',\n",
      "             'Heartland Village/Todt Hill': 'Todt Hill',\n",
      "             'Highbridge': 'Highbridge',\n",
      "             'Highbridge Park': 'Highbridge',\n",
      "             'Hillcrest/Pomonok': 'Flushing',\n",
      "             'Hollis': 'Hollis',\n",
      "             'Homecrest': 'Sheepshead Bay',\n",
      "             'Howard Beach': 'Howard Beach',\n",
      "             'Hudson Sq': 'SoHo',\n",
      "             'Hunts Point': 'Hunts Point',\n",
      "             'Inwood': 'Inwood',\n",
      "             'Inwood Hill Park': 'Inwood',\n",
      "             'JFK Airport': 'John F. Kennedy International Airport',\n",
      "             'Jackson Heights': 'Jackson Heights',\n",
      "             'Jamaica': 'Jamaica',\n",
      "             'Jamaica Bay': 'Jamaica Bay',\n",
      "             'Jamaica Estates': 'Jamaica Estates',\n",
      "             'Kensington': 'Kensington',\n",
      "             'Kew Gardens': 'Kew Gardens',\n",
      "             'Kew Gardens Hills': 'Kew Gardens Hills',\n",
      "             'Kingsbridge Heights': 'Kingsbridge',\n",
      "             'Kips Bay': 'Kips Bay',\n",
      "             'LaGuardia Airport': 'LaGuardia Airport',\n",
      "             'Laurelton': 'Laurelton',\n",
      "             'Lenox Hill East': 'Upper East Side',\n",
      "             'Lenox Hill West': 'Upper East Side',\n",
      "             'Lincoln Square East': 'Upper West Side',\n",
      "             'Lincoln Square West': 'Upper West Side',\n",
      "             'Little Italy/NoLiTa': 'Little Italy',\n",
      "             'Long Island City/Hunters Point': 'Long Island City',\n",
      "             'Long Island City/Queens Plaza': 'Long Island City',\n",
      "             'Longwood': 'Longwood',\n",
      "             'Lower East Side': 'Lower East Side',\n",
      "             'Madison': 'Flatiron',\n",
      "             'Manhattan Beach': 'Manhattan Beach',\n",
      "             'Manhattan Valley': 'Upper West Side',\n",
      "             'Manhattanville': 'Harlem',\n",
      "             'Marble Hill': 'Marble Hill',\n",
      "             'Marine Park/Floyd Bennett Field': 'Floyd Bennett Field',\n",
      "             'Marine Park/Mill Basin': 'Marine Park',\n",
      "             'Mariners Harbor': 'Mariners Harbor',\n",
      "             'Maspeth': 'Maspeth',\n",
      "             'Meatpacking/West Village West': 'West Village',\n",
      "             'Melrose South': 'Melrose',\n",
      "             'Middle Village': 'Middle Village',\n",
      "             'Midtown Center': 'Midtown',\n",
      "             'Midtown East': 'Midtown',\n",
      "             'Midtown North': 'Midtown',\n",
      "             'Midtown South': 'Midtown',\n",
      "             'Midwood': 'Midwood',\n",
      "             'Morningside Heights': 'Morningside Heights',\n",
      "             'Morrisania/Melrose': 'Morrisania',\n",
      "             'Mott Haven/Port Morris': 'Port Morris',\n",
      "             'Mount Hope': 'Mount Hope',\n",
      "             'Murray Hill': 'Murray Hill',\n",
      "             'Murray Hill-Queens': 'Murray Hill',\n",
      "             'New Dorp/Midland Beach': 'New Dorp',\n",
      "             'Newark Airport': '0',\n",
      "             'North Corona': 'Corona',\n",
      "             'Norwood': 'Norwood',\n",
      "             'Oakland Gardens': 'Fresh Meadows',\n",
      "             'Oakwood': 'Oakwood',\n",
      "             'Ocean Hill': 'Bedford-Stuyvesant',\n",
      "             'Ocean Parkway South': 'Sheepshead Bay',\n",
      "             'Old Astoria': 'Astoria',\n",
      "             'Ozone Park': 'Ozone Park',\n",
      "             'Park Slope': 'Park Slope',\n",
      "             'Parkchester': 'Parkchester',\n",
      "             'Pelham Bay': 'Pelham Bay',\n",
      "             'Pelham Bay Park': 'Pelham Bay Park',\n",
      "             'Pelham Parkway': 'Pelham Bay Park',\n",
      "             'Penn Station/Madison Sq West': 'Midtown',\n",
      "             'Port Richmond': 'Port Richmond',\n",
      "             'Prospect Heights': 'Prospect Heights',\n",
      "             'Prospect Park': 'Prospect Park',\n",
      "             'Prospect-Lefferts Gardens': 'Prospect-Lefferts Gardens',\n",
      "             'Queens Village': 'Queens Village',\n",
      "             'Queensboro Hill': 'Flushing',\n",
      "             'Queensbridge/Ravenswood': 'Astoria',\n",
      "             'Randalls Island': \"Randall's Island\",\n",
      "             'Red Hook': 'Red Hook',\n",
      "             'Rego Park': 'Rego Park',\n",
      "             'Richmond Hill': 'Richmond Hill',\n",
      "             'Ridgewood': 'Ridgewood',\n",
      "             'Riverdale/North Riverdale/Fieldston': 'North Riverdale',\n",
      "             'Rockaway Park': 'Rockaway Park',\n",
      "             'Roosevelt Island': 'Roosevelt Island',\n",
      "             'Rosedale': 'Rosedale',\n",
      "             'Rossville/Woodrow': 'Rossville',\n",
      "             'Saint Albans': 'St. Albans',\n",
      "             'Saint George/New Brighton': 'New Brighton',\n",
      "             'Saint Michaels Cemetery/Woodside': 'Woodside',\n",
      "             'Schuylerville/Edgewater Park': 'Schuylerville',\n",
      "             'Seaport': 'Financial District',\n",
      "             'Sheepshead Bay': 'Sheepshead Bay',\n",
      "             'SoHo': 'SoHo',\n",
      "             'Soundview/Bruckner': 'Soundview',\n",
      "             'Soundview/Castle Hill': 'Castle Hill',\n",
      "             'South Beach/Dongan Hills': 'Dongan Hills',\n",
      "             'South Jamaica': 'Jamaica',\n",
      "             'South Ozone Park': 'South Ozone Park',\n",
      "             'South Williamsburg': 'Williamsburg',\n",
      "             'Springfield Gardens North': 'Springfield Gardens',\n",
      "             'Springfield Gardens South': 'Springfield Gardens',\n",
      "             'Spuyten Duyvil/Kingsbridge': 'Spuyten Duyvil',\n",
      "             'Stapleton': 'Stapleton',\n",
      "             'Starrett City': 'East New York',\n",
      "             'Steinway': 'Ditmars Steinway',\n",
      "             'Stuy Town/Peter Cooper Village': 'Stuyvesant Town',\n",
      "             'Stuyvesant Heights': 'Bedford-Stuyvesant',\n",
      "             'Sunnyside': 'Sunnyside',\n",
      "             'Sunset Park East': 'Sunset Park',\n",
      "             'Sunset Park West': 'Sunset Park',\n",
      "             'Sutton Place/Turtle Bay North': 'Midtown',\n",
      "             'Times Sq/Theatre District': 'Theater District',\n",
      "             'TriBeCa/Civic Center': 'Civic Center',\n",
      "             'Two Bridges/Seward Park': 'Two Bridges',\n",
      "             'UN/Turtle Bay South': 'Midtown',\n",
      "             'Union Sq': 'Gramercy',\n",
      "             'University Heights/Morris Heights': 'University Heights',\n",
      "             'Unknown': '0',\n",
      "             'Upper East Side North': 'Upper East Side',\n",
      "             'Upper East Side South': 'Upper East Side',\n",
      "             'Upper West Side North': 'Upper West Side',\n",
      "             'Upper West Side South': 'Upper West Side',\n",
      "             'Van Cortlandt Park': 'Van Cortlandt Park',\n",
      "             'Van Cortlandt Village': 'Van Cortlandt Park',\n",
      "             'Van Nest/Morris Park': 'Morris Park',\n",
      "             'Washington Heights North': 'Washington Heights',\n",
      "             'Washington Heights South': 'Washington Heights',\n",
      "             'West Brighton': 'West Brighton',\n",
      "             'West Chelsea/Hudson Yards': 'Chelsea',\n",
      "             'West Concourse': 'Concourse',\n",
      "             'West Farms/Bronx River': 'West Farms',\n",
      "             'West Village': 'West Village',\n",
      "             'Westchester Village/Unionport': 'Westchester Square',\n",
      "             'Westerleigh': 'Westerleigh',\n",
      "             'Whitestone': 'Whitestone',\n",
      "             'Willets Point': 'Flushing',\n",
      "             'Williamsbridge/Olinville': 'Williamsbridge',\n",
      "             'Williamsburg (North Side)': 'Williamsburg',\n",
      "             'Williamsburg (South Side)': 'Williamsburg',\n",
      "             'Windsor Terrace': 'Windsor Terrace',\n",
      "             'Woodhaven': 'Woodhaven',\n",
      "             'Woodlawn/Wakefield': 'Wakefield',\n",
      "             'Woodside': 'Woodside',\n",
      "             'World Trade Center': 'Financial District',\n",
      "             'Yorkville East': 'Upper East Side',\n",
      "             'Yorkville West': 'Upper East Side'})\n"
     ]
    }
   ],
   "source": [
    "# apply neighborhood corrections to the top_match dictionary\n",
    "for i in neighborhood_corrections:\n",
    "    top_match[i] = neighborhood_corrections[i]\n",
    "\n",
    "pprint(top_match)"
   ]
  },
  {
   "cell_type": "markdown",
   "metadata": {},
   "source": [
    "#### Adding neighborhoods from GeoJSON file"
   ]
  },
  {
   "cell_type": "code",
   "execution_count": 55,
   "metadata": {
    "ExecuteTime": {
     "end_time": "2018-03-27T21:01:13.272234Z",
     "start_time": "2018-03-27T21:01:13.269598Z"
    }
   },
   "outputs": [],
   "source": [
    "# Now this dictionary needs to be applied to the uber 2015\n",
    "# dataframe to translate the taxi neighborhoods into geojson\n",
    "# neighborhoods\n",
    "\n",
    "df['Loc'] = df['Zone'].map(lambda x: top_match[x])"
   ]
  },
  {
   "cell_type": "code",
   "execution_count": 60,
   "metadata": {
    "ExecuteTime": {
     "end_time": "2018-03-27T21:09:13.048919Z",
     "start_time": "2018-03-27T21:09:11.928653Z"
    }
   },
   "outputs": [
    {
     "data": {
      "text/html": [
       "<div>\n",
       "<style scoped>\n",
       "    .dataframe tbody tr th:only-of-type {\n",
       "        vertical-align: middle;\n",
       "    }\n",
       "\n",
       "    .dataframe tbody tr th {\n",
       "        vertical-align: top;\n",
       "    }\n",
       "\n",
       "    .dataframe thead th {\n",
       "        text-align: right;\n",
       "    }\n",
       "</style>\n",
       "<table border=\"1\" class=\"dataframe\">\n",
       "  <thead>\n",
       "    <tr style=\"text-align: right;\">\n",
       "      <th></th>\n",
       "      <th>Dispatching_base_num</th>\n",
       "      <th>Pickup_date</th>\n",
       "      <th>locationID</th>\n",
       "      <th>Borough</th>\n",
       "      <th>Zone</th>\n",
       "      <th>Loc</th>\n",
       "    </tr>\n",
       "  </thead>\n",
       "  <tbody>\n",
       "    <tr>\n",
       "      <th>7377734</th>\n",
       "      <td>B02682</td>\n",
       "      <td>2015-06-30 11:26:00</td>\n",
       "      <td>239</td>\n",
       "      <td>Manhattan</td>\n",
       "      <td>Upper West Side South</td>\n",
       "      <td>Upper West Side</td>\n",
       "    </tr>\n",
       "    <tr>\n",
       "      <th>5690482</th>\n",
       "      <td>B02764</td>\n",
       "      <td>2015-05-24 17:51:00</td>\n",
       "      <td>97</td>\n",
       "      <td>Brooklyn</td>\n",
       "      <td>Fort Greene</td>\n",
       "      <td>Fort Greene</td>\n",
       "    </tr>\n",
       "    <tr>\n",
       "      <th>4500371</th>\n",
       "      <td>B02764</td>\n",
       "      <td>2015-02-25 19:39:03</td>\n",
       "      <td>75</td>\n",
       "      <td>Manhattan</td>\n",
       "      <td>East Harlem South</td>\n",
       "      <td>East Harlem</td>\n",
       "    </tr>\n",
       "    <tr>\n",
       "      <th>76326</th>\n",
       "      <td>B02764</td>\n",
       "      <td>2015-04-15 08:27:00</td>\n",
       "      <td>141</td>\n",
       "      <td>Manhattan</td>\n",
       "      <td>Lenox Hill West</td>\n",
       "      <td>Upper East Side</td>\n",
       "    </tr>\n",
       "    <tr>\n",
       "      <th>9511832</th>\n",
       "      <td>B02617</td>\n",
       "      <td>2015-02-08 19:21:10</td>\n",
       "      <td>121</td>\n",
       "      <td>Queens</td>\n",
       "      <td>Hillcrest/Pomonok</td>\n",
       "      <td>Flushing</td>\n",
       "    </tr>\n",
       "  </tbody>\n",
       "</table>\n",
       "</div>"
      ],
      "text/plain": [
       "        Dispatching_base_num          Pickup_date  locationID    Borough  \\\n",
       "7377734               B02682  2015-06-30 11:26:00         239  Manhattan   \n",
       "5690482               B02764  2015-05-24 17:51:00          97   Brooklyn   \n",
       "4500371               B02764  2015-02-25 19:39:03          75  Manhattan   \n",
       "76326                 B02764  2015-04-15 08:27:00         141  Manhattan   \n",
       "9511832               B02617  2015-02-08 19:21:10         121     Queens   \n",
       "\n",
       "                          Zone              Loc  \n",
       "7377734  Upper West Side South  Upper West Side  \n",
       "5690482            Fort Greene      Fort Greene  \n",
       "4500371      East Harlem South      East Harlem  \n",
       "76326          Lenox Hill West  Upper East Side  \n",
       "9511832      Hillcrest/Pomonok         Flushing  "
      ]
     },
     "execution_count": 60,
     "metadata": {},
     "output_type": "execute_result"
    }
   ],
   "source": [
    "df.sample(5)"
   ]
  },
  {
   "cell_type": "code",
   "execution_count": 61,
   "metadata": {
    "ExecuteTime": {
     "end_time": "2018-03-27T21:10:14.632605Z",
     "start_time": "2018-03-27T21:10:13.636271Z"
    }
   },
   "outputs": [],
   "source": [
    "# drop redundant columns\n",
    "df.drop(labels=['Zone'], axis=1, inplace=True)"
   ]
  },
  {
   "cell_type": "code",
   "execution_count": 69,
   "metadata": {
    "ExecuteTime": {
     "end_time": "2018-03-27T21:13:13.230782Z",
     "start_time": "2018-03-27T21:13:12.268382Z"
    }
   },
   "outputs": [
    {
     "data": {
      "text/plain": [
       "6369"
      ]
     },
     "execution_count": 69,
     "metadata": {},
     "output_type": "execute_result"
    }
   ],
   "source": [
    "# drop unmatched rows\n",
    "len(df[df.Loc == '0'])"
   ]
  },
  {
   "cell_type": "code",
   "execution_count": 72,
   "metadata": {
    "ExecuteTime": {
     "end_time": "2018-03-27T21:14:01.279122Z",
     "start_time": "2018-03-27T21:13:59.338380Z"
    }
   },
   "outputs": [],
   "source": [
    "df = df[df.Loc != '0']"
   ]
  },
  {
   "cell_type": "code",
   "execution_count": 73,
   "metadata": {
    "ExecuteTime": {
     "end_time": "2018-03-27T21:16:02.304839Z",
     "start_time": "2018-03-27T21:14:39.913910Z"
    }
   },
   "outputs": [],
   "source": [
    "# write to a new CSV file\n",
    "write_name = 'data/uber-tlc-foil-response/uber-trip-data/uber-janjune-15-loc.csv'\n",
    "write_to_gcs(df, write_name)"
   ]
  },
  {
   "cell_type": "markdown",
   "metadata": {},
   "source": [
    "## Citibike Data"
   ]
  },
  {
   "cell_type": "code",
   "execution_count": 26,
   "metadata": {
    "ExecuteTime": {
     "end_time": "2018-03-28T04:43:00.566218Z",
     "start_time": "2018-03-28T04:43:00.557556Z"
    }
   },
   "outputs": [
    {
     "name": "stdout",
     "output_type": "stream",
     "text": [
      "['data/citibike/201404-citibike-tripdata.csv',\n",
      " 'data/citibike/201405-citibike-tripdata.csv',\n",
      " 'data/citibike/201406-citibike-tripdata.csv',\n",
      " 'data/citibike/201407-citibike-tripdata.csv',\n",
      " 'data/citibike/201408-citibike-tripdata.csv',\n",
      " 'data/citibike/201409-citibike-tripdata.csv',\n",
      " 'data/citibike/201501-citibike-tripdata.csv',\n",
      " 'data/citibike/201502-citibike-tripdata.csv',\n",
      " 'data/citibike/201503-citibike-tripdata.csv',\n",
      " 'data/citibike/201504-citibike-tripdata.csv',\n",
      " 'data/citibike/201505-citibike-tripdata.csv',\n",
      " 'data/citibike/201506-citibike-tripdata.csv']\n"
     ]
    }
   ],
   "source": [
    "filename_template = 'data/citibike/{}-citibike-tripdata.csv'\n",
    "writename_template = 'data/citibike/with_loc/{}-citibike-tripdata.csv'\n",
    "times = ['201404', '201405', '201406', '201407', '201408', \n",
    "         '201409', '201501', '201502', '201503', '201504', \n",
    "         '201505', '201506']\n",
    "\n",
    "filenames = [filename_template.format(t) for t in times]\n",
    "writenames = [writename_template.format(t) for t in times]\n",
    "pprint(filenames)"
   ]
  },
  {
   "cell_type": "code",
   "execution_count": 29,
   "metadata": {
    "ExecuteTime": {
     "end_time": "2018-03-28T05:15:45.022916Z",
     "start_time": "2018-03-28T04:44:48.713965Z"
    }
   },
   "outputs": [
    {
     "name": "stdout",
     "output_type": "stream",
     "text": [
      "data/citibike/201404-citibike-tripdata.csv\n",
      ">> Opening\n",
      ">> Adding neighborhoods\n",
      ">> Writing back to GCS\n",
      "\n",
      "data/citibike/201405-citibike-tripdata.csv\n",
      ">> Opening\n",
      ">> Adding neighborhoods\n",
      ">> Writing back to GCS\n",
      "\n",
      "data/citibike/201406-citibike-tripdata.csv\n",
      ">> Opening\n",
      ">> Adding neighborhoods\n",
      ">> Writing back to GCS\n",
      "\n",
      "data/citibike/201407-citibike-tripdata.csv\n",
      ">> Opening\n",
      ">> Adding neighborhoods\n",
      ">> Writing back to GCS\n",
      "\n",
      "data/citibike/201408-citibike-tripdata.csv\n",
      ">> Opening\n",
      ">> Adding neighborhoods\n",
      ">> Writing back to GCS\n",
      "\n",
      "data/citibike/201409-citibike-tripdata.csv\n",
      ">> Opening\n",
      ">> Adding neighborhoods\n",
      ">> Writing back to GCS\n",
      "\n",
      "data/citibike/201501-citibike-tripdata.csv\n",
      ">> Opening\n",
      ">> Adding neighborhoods\n",
      ">> Writing back to GCS\n",
      "\n",
      "data/citibike/201502-citibike-tripdata.csv\n",
      ">> Opening\n",
      ">> Adding neighborhoods\n",
      ">> Writing back to GCS\n",
      "\n",
      "data/citibike/201503-citibike-tripdata.csv\n",
      ">> Opening\n",
      ">> Adding neighborhoods\n",
      ">> Writing back to GCS\n",
      "\n",
      "data/citibike/201504-citibike-tripdata.csv\n",
      ">> Opening\n",
      ">> Adding neighborhoods\n",
      ">> Writing back to GCS\n",
      "\n",
      "data/citibike/201505-citibike-tripdata.csv\n",
      ">> Opening\n",
      ">> Adding neighborhoods\n",
      ">> Writing back to GCS\n",
      "\n",
      "data/citibike/201506-citibike-tripdata.csv\n",
      ">> Opening\n",
      ">> Adding neighborhoods\n",
      ">> Writing back to GCS\n",
      "\n",
      "Read 8,739,898 rows\n",
      "Wrote back 8,739,898 rows\n"
     ]
    }
   ],
   "source": [
    "open_add_write(filenames, writenames, \n",
    "               lat_col = 'start station latitude', \n",
    "               lon_col = 'start station longitude', \n",
    "               new_col = 'start_loc')"
   ]
  },
  {
   "cell_type": "markdown",
   "metadata": {},
   "source": [
    "## MTA Stations"
   ]
  },
  {
   "cell_type": "code",
   "execution_count": 9,
   "metadata": {
    "ExecuteTime": {
     "end_time": "2018-03-28T17:39:26.836282Z",
     "start_time": "2018-03-28T17:39:26.833571Z"
    }
   },
   "outputs": [],
   "source": [
    "open_names = ['data/NYC_Transit_Subway_Entrance_And_Exit_Data.csv']\n",
    "write_names = ['data/nyc_subway_with_loc.csv']"
   ]
  },
  {
   "cell_type": "code",
   "execution_count": 20,
   "metadata": {
    "ExecuteTime": {
     "end_time": "2018-03-28T17:42:14.382888Z",
     "start_time": "2018-03-28T17:42:12.870933Z"
    }
   },
   "outputs": [
    {
     "name": "stdout",
     "output_type": "stream",
     "text": [
      "data/NYC_Transit_Subway_Entrance_And_Exit_Data.csv\n",
      ">> Opening\n",
      ">> Adding neighborhoods\n",
      ">> Writing back to GCS\n",
      "\n",
      "Read 1,868 rows\n",
      "Wrote back 1,868 rows\n"
     ]
    }
   ],
   "source": [
    "open_add_write(open_names, write_names, \n",
    "               lat_col = 'Station Latitude', \n",
    "               lon_col = 'Station Longitude', \n",
    "               new_col = 'loc')"
   ]
  }
 ],
 "metadata": {
  "kernelspec": {
   "display_name": "Python 3",
   "language": "python",
   "name": "python3"
  },
  "language_info": {
   "codemirror_mode": {
    "name": "ipython",
    "version": 3
   },
   "file_extension": ".py",
   "mimetype": "text/x-python",
   "name": "python",
   "nbconvert_exporter": "python",
   "pygments_lexer": "ipython3",
   "version": "3.6.4"
  },
  "toc": {
   "nav_menu": {},
   "number_sections": true,
   "sideBar": true,
   "skip_h1_title": true,
   "title_cell": "Table of Contents",
   "title_sidebar": "Contents",
   "toc_cell": false,
   "toc_position": {
    "height": "441px",
    "left": "593px",
    "top": "133.5px",
    "width": "319px"
   },
   "toc_section_display": true,
   "toc_window_display": true
  },
  "varInspector": {
   "cols": {
    "lenName": 16,
    "lenType": 16,
    "lenVar": 40
   },
   "kernels_config": {
    "python": {
     "delete_cmd_postfix": "",
     "delete_cmd_prefix": "del ",
     "library": "var_list.py",
     "varRefreshCmd": "print(var_dic_list())"
    },
    "r": {
     "delete_cmd_postfix": ") ",
     "delete_cmd_prefix": "rm(",
     "library": "var_list.r",
     "varRefreshCmd": "cat(var_dic_list()) "
    }
   },
   "position": {
    "height": "583px",
    "left": "564px",
    "right": "20px",
    "top": "120px",
    "width": "340px"
   },
   "types_to_exclude": [
    "module",
    "function",
    "builtin_function_or_method",
    "instance",
    "_Feature"
   ],
   "window_display": false
  }
 },
 "nbformat": 4,
 "nbformat_minor": 2
}
